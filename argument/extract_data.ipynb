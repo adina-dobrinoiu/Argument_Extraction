{
 "cells": [
  {
   "cell_type": "markdown",
   "metadata": {
    "collapsed": false,
    "jupyter": {
     "outputs_hidden": false
    }
   },
   "source": [
    "# Extracting the required data from the dataset"
   ]
  },
  {
   "cell_type": "markdown",
   "metadata": {
    "collapsed": false,
    "jupyter": {
     "outputs_hidden": false
    }
   },
   "source": [
    "The dataset should be located at **'data/Personal_Annotation_{annotator_number}.csv'** and should contain at least the three required specific columns:\n",
    "\n",
    "1. **question_id**: This column identifies each entry based on its corresponding policy.\n",
    "\n",
    "2. **english**: This column contains the data entries translated into English.\n",
    "\n",
    "3. **Arguments**: This column contains annotations associated with each entry."
   ]
  },
  {
   "cell_type": "markdown",
   "metadata": {
    "collapsed": false,
    "jupyter": {
     "outputs_hidden": false
    }
   },
   "source": [
    "After running this notebook, the extracted data will be saved to a JSON file located at **'data_extraction/personal_annotation_{annotator_number}.json'**. The JSON file will have the following format:\n",
    "\n",
    "```json\n",
    "{\n",
    "  \"question_id\": [],\n",
    "  \"english_text\": [],\n",
    "  \"labels\": []\n",
    "}\n",
    "```\n",
    "Ensure to replace {annotator_number} in the file path with the appropriate annotator number used."
   ]
  },
  {
   "cell_type": "code",
   "execution_count": null,
   "metadata": {
    "ExecuteTime": {
     "end_time": "2024-06-22T14:40:20.010080700Z",
     "start_time": "2024-06-22T14:40:19.979123700Z"
    },
    "collapsed": false,
    "jupyter": {
     "outputs_hidden": false
    }
   },
   "outputs": [],
   "source": [
    "import pandas as pd\n",
    "import re\n",
    "import math\n",
    "import json\n",
    "import os"
   ]
  },
  {
   "cell_type": "code",
   "execution_count": null,
   "metadata": {
    "ExecuteTime": {
     "end_time": "2024-06-22T14:40:20.054698500Z",
     "start_time": "2024-06-22T14:40:19.983150100Z"
    },
    "collapsed": false,
    "jupyter": {
     "outputs_hidden": false
    }
   },
   "outputs": [],
   "source": [
    "# load personal annotation CSV file into a DataFrame\n",
    "annotator_number = 1 # adjust as needed\n",
    "df = pd.read_csv(f'data/Personal_Annotation_{annotator_number}.csv')\n",
    "\n",
    "number_of_annotations = 50 #adjust as needed\n",
    "\n",
    "# extract the required data columns\n",
    "question_id = df['question_id'].head(number_of_annotations).tolist()\n",
    "english_text = df['english'].head(number_of_annotations).tolist()\n",
    "labels = df['Arguments'].head(number_of_annotations).tolist()\n",
    "\n",
    "# print the extracted annotation data for visualization\n",
    "print(labels)"
   ]
  },
  {
   "cell_type": "code",
   "execution_count": null,
   "metadata": {
    "ExecuteTime": {
     "end_time": "2024-06-22T14:40:20.055698100Z",
     "start_time": "2024-06-22T14:40:20.050711900Z"
    },
    "collapsed": false,
    "jupyter": {
     "outputs_hidden": false
    }
   },
   "outputs": [],
   "source": [
    "def get_personal_annotator_data():\n",
    "    \"\"\"\n",
    "    Formats the required data.\n",
    "    Returns: a dictionary with the required data:\n",
    "    \"\"\"\n",
    "\n",
    "    parsed_labels = []\n",
    "    for value in labels:\n",
    "            if isinstance(value, float) and math.isnan(value):\n",
    "                parsed_labels.append([\"None\"])\n",
    "            else:\n",
    "                row_labels = re.findall(r'\\((.*?)\\)', value)\n",
    "                formatted_row_labels = [r.strip().lower() for r in row_labels]\n",
    "                parsed_labels.append(formatted_row_labels)\n",
    "\n",
    "    return {'question_id': question_id, 'english_text': english_text, 'labels': parsed_labels}"
   ]
  },
  {
   "cell_type": "code",
   "execution_count": null,
   "metadata": {
    "ExecuteTime": {
     "end_time": "2024-06-22T14:40:20.055698100Z",
     "start_time": "2024-06-22T14:40:20.051707400Z"
    },
    "collapsed": false,
    "jupyter": {
     "outputs_hidden": false
    }
   },
   "outputs": [],
   "source": [
    "# get the formatted annotator data\n",
    "output_data = get_personal_annotator_data()\n",
    "file_path = f'data_extraction/personal_annotation_{annotator_number}.json'\n",
    "\n",
    "# save the data to the desired file_path\n",
    "os.makedirs(os.path.dirname(file_path), exist_ok=True)\n",
    "with open(file_path, 'w') as json_file:\n",
    "    json.dump(output_data, json_file)"
   ]
  }
 ],
 "metadata": {
  "kernelspec": {
   "display_name": "Python 3 (ipykernel)",
   "language": "python",
   "name": "python3"
  },
  "language_info": {
   "codemirror_mode": {
    "name": "ipython",
    "version": 3
   },
   "file_extension": ".py",
   "mimetype": "text/x-python",
   "name": "python",
   "nbconvert_exporter": "python",
   "pygments_lexer": "ipython3",
   "version": "3.11.1"
  }
 },
 "nbformat": 4,
 "nbformat_minor": 4
}
