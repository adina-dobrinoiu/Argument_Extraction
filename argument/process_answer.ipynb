{
 "cells": [
  {
   "cell_type": "code",
   "execution_count": 17,
   "metadata": {
    "collapsed": true,
    "ExecuteTime": {
     "end_time": "2024-06-15T20:15:05.264761500Z",
     "start_time": "2024-06-15T20:15:05.216343700Z"
    }
   },
   "outputs": [],
   "source": [
    "import json"
   ]
  },
  {
   "cell_type": "code",
   "execution_count": 18,
   "outputs": [],
   "source": [
    "def get_llm_answers(file_path):\n",
    "    with open(file_path, 'r') as json_file:\n",
    "        data = json.load(json_file)\n",
    "\n",
    "    return data"
   ],
   "metadata": {
    "collapsed": false,
    "ExecuteTime": {
     "end_time": "2024-06-15T20:15:05.288074300Z",
     "start_time": "2024-06-15T20:15:05.233727100Z"
    }
   }
  },
  {
   "cell_type": "code",
   "execution_count": 19,
   "outputs": [],
   "source": [
    "# helper function for storing llm answers\n",
    "def process_and_store_llm_answers(file_path):\n",
    "    data = get_llm_answers(file_path)\n",
    "    llm_responses = []\n",
    "\n",
    "    for run in data:\n",
    "        llm_responses_per_run = []\n",
    "        for entry in run:\n",
    "            current_llm_response = []\n",
    "            entry_dict = json.loads(entry)\n",
    "            for key in entry_dict.keys():\n",
    "                current_llm_response.append(entry_dict.get(key).strip().lower())\n",
    "\n",
    "            llm_responses_per_run.append(current_llm_response)\n",
    "        llm_responses.append(llm_responses_per_run)\n",
    "\n",
    "    return llm_responses"
   ],
   "metadata": {
    "collapsed": false,
    "ExecuteTime": {
     "end_time": "2024-06-15T20:15:05.289071300Z",
     "start_time": "2024-06-15T20:15:05.244797700Z"
    }
   }
  }
 ],
 "metadata": {
  "kernelspec": {
   "display_name": "Python 3",
   "language": "python",
   "name": "python3"
  },
  "language_info": {
   "codemirror_mode": {
    "name": "ipython",
    "version": 2
   },
   "file_extension": ".py",
   "mimetype": "text/x-python",
   "name": "python",
   "nbconvert_exporter": "python",
   "pygments_lexer": "ipython2",
   "version": "2.7.6"
  }
 },
 "nbformat": 4,
 "nbformat_minor": 0
}
