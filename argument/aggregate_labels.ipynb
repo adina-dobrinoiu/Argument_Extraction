{
 "cells": [
  {
   "cell_type": "code",
   "execution_count": null,
   "metadata": {
    "ExecuteTime": {
     "end_time": "2024-06-22T23:44:21.697938400Z",
     "start_time": "2024-06-22T23:44:21.694946900Z"
    }
   },
   "outputs": [],
   "source": [
    "import json"
   ]
  },
  {
   "cell_type": "code",
   "execution_count": null,
   "metadata": {
    "ExecuteTime": {
     "end_time": "2024-06-22T23:44:24.790887300Z",
     "start_time": "2024-06-22T23:44:24.784998700Z"
    },
    "collapsed": false,
    "jupyter": {
     "outputs_hidden": false
    }
   },
   "outputs": [],
   "source": [
    "# extract required data per annotator\n",
    "def extract_data_per_annotator(annotator_number):\n",
    "    file_path = f'data_extraction/personal_annotation_{annotator_number}.json'\n",
    "\n",
    "    with open(file_path, 'r') as json_file:\n",
    "        data = json.load(json_file)\n",
    "\n",
    "    return data"
   ]
  },
  {
   "cell_type": "code",
   "execution_count": null,
   "metadata": {
    "ExecuteTime": {
     "end_time": "2024-06-16T09:12:33.096474400Z",
     "start_time": "2024-06-16T09:12:33.092091600Z"
    },
    "collapsed": false,
    "jupyter": {
     "outputs_hidden": false
    }
   },
   "outputs": [],
   "source": [
    "def aggregate_data():\n",
    "    all_annotators = []\n",
    "\n",
    "    for i in range(0, 5):\n",
    "        all_annotators.append(extract_data_per_annotator(i + 1))\n",
    "\n",
    "    return all_annotators"
   ]
  },
  {
   "cell_type": "code",
   "execution_count": null,
   "metadata": {
    "ExecuteTime": {
     "end_time": "2024-06-16T09:12:33.130258600Z",
     "start_time": "2024-06-16T09:12:33.112105500Z"
    },
    "collapsed": false,
    "jupyter": {
     "outputs_hidden": false
    }
   },
   "outputs": [],
   "source": [
    "from collections import Counter\n",
    "import re\n",
    "\n",
    "\n",
    "def normalize_label(label):\n",
    "    label = label.lower()  # convert to lowercase\n",
    "    label = re.sub(r'[^\\w\\s]', '', label)  # remove punctuation\n",
    "    return label\n",
    "\n",
    "def count_label_occurrences(labels_list):\n",
    "    normalized_labels = [normalize_label(label) for sublist in labels_list for label in sublist]\n",
    "    counter = Counter()\n",
    "\n",
    "    # count occurrences based on substring inclusion\n",
    "    for label in set(normalized_labels):\n",
    "        for sublist in labels_list:\n",
    "            for other_label in sublist:\n",
    "                normalized_other_label = normalize_label(other_label)\n",
    "                if label in normalized_other_label:\n",
    "                    counter[label] += 1\n",
    "                    break  # count each label only once per sublist\n",
    "\n",
    "    return counter\n",
    "\n",
    "def filter_labels_by_threshold(counter, threshold):\n",
    "    return [label for label, count in counter.items() if count >= threshold]\n",
    "\n",
    "def select_most_specific_labels(labels):\n",
    "    labels = sorted(labels, key=len)  # Sort labels by length (shortest first)\n",
    "    for x in labels:\n",
    "        for y in labels:\n",
    "            if x!=y and x in y:\n",
    "                labels.remove(y)\n",
    "\n",
    "    return labels\n",
    "\n",
    "\n",
    "def majority_vote_labels(labels_list, threshold):\n",
    "    counter = count_label_occurrences(labels_list)\n",
    "    filtered_labels = filter_labels_by_threshold(counter, threshold)\n",
    "    most_specific_labels = select_most_specific_labels(filtered_labels)\n",
    "    return most_specific_labels"
   ]
  },
  {
   "cell_type": "code",
   "execution_count": null,
   "metadata": {
    "ExecuteTime": {
     "end_time": "2024-06-16T09:12:33.131255900Z",
     "start_time": "2024-06-16T09:12:33.119066300Z"
    },
    "collapsed": false,
    "jupyter": {
     "outputs_hidden": false
    }
   },
   "outputs": [],
   "source": [
    "def get_majority_vote_labels_dataset():\n",
    "    # retrieve labels from all annotators\n",
    "    annotators_labels = [value[\"labels\"] for value in aggregate_data()]\n",
    "\n",
    "    # set the threshold\n",
    "    threshold = 3\n",
    "    dataset_majority_vote_labels = []\n",
    "\n",
    "    # iterate over the first 50 entries\n",
    "    for i in range(0, 50):\n",
    "        # collect labels for the current entry from all annotators\n",
    "        labels = [value[i] for value in annotators_labels]\n",
    "\n",
    "        # get the majority vote labels based on the threshold\n",
    "        majority_vote = majority_vote_labels(labels, threshold)\n",
    "        # if no majority vote found, lower the threshold by 1 and try again\n",
    "        if len(majority_vote) == 0:\n",
    "            majority_vote = majority_vote_labels(labels, threshold - 1)\n",
    "        dataset_majority_vote_labels.append(majority_vote)\n",
    "\n",
    "    return dataset_majority_vote_labels"
   ]
  }
 ],
 "metadata": {
  "kernelspec": {
   "display_name": "Python 3 (ipykernel)",
   "language": "python",
   "name": "python3"
  },
  "language_info": {
   "codemirror_mode": {
    "name": "ipython",
    "version": 3
   },
   "file_extension": ".py",
   "mimetype": "text/x-python",
   "name": "python",
   "nbconvert_exporter": "python",
   "pygments_lexer": "ipython3",
   "version": "3.11.1"
  }
 },
 "nbformat": 4,
 "nbformat_minor": 4
}
