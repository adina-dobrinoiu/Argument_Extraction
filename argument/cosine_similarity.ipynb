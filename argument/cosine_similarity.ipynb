{
 "cells": [
  {
   "cell_type": "markdown",
   "metadata": {
    "collapsed": false,
    "jupyter": {
     "outputs_hidden": false
    }
   },
   "source": [
    "# Cosine similarity metric"
   ]
  },
  {
   "cell_type": "markdown",
   "metadata": {
    "collapsed": false,
    "jupyter": {
     "outputs_hidden": false
    }
   },
   "source": [
    "In this research, cosine similarity was utilized as follows:\n",
    "\n",
    "- For each pair of (LLM response, annotator label) for an entry, the cosine similarity matrix was computed.\n",
    "- The similarity value of elements with similarity below 0.2 was set to 0, indicating no significant similarity.\n",
    "- The highest similarity value in the matrix was selected for each LLM response.\n",
    "- The similarity values were averaged across the entire dataset.\n",
    "- The similarity values were further averaged over 10 different runs."
   ]
  },
  {
   "cell_type": "code",
   "execution_count": 2,
   "metadata": {
    "collapsed": false,
    "jupyter": {
     "outputs_hidden": false
    },
    "ExecuteTime": {
     "end_time": "2024-06-23T10:16:57.787478100Z",
     "start_time": "2024-06-23T10:16:54.909150Z"
    }
   },
   "outputs": [],
   "source": [
    "import re\n",
    "import numpy as np\n",
    "import json\n",
    "from sklearn.feature_extraction.text import TfidfVectorizer\n",
    "from sklearn.metrics.pairwise import cosine_similarity"
   ]
  },
  {
   "cell_type": "code",
   "execution_count": 3,
   "metadata": {
    "collapsed": false,
    "jupyter": {
     "outputs_hidden": false
    },
    "ExecuteTime": {
     "end_time": "2024-06-23T10:16:57.790859700Z",
     "start_time": "2024-06-23T10:16:57.788475400Z"
    }
   },
   "outputs": [],
   "source": [
    "# extract required data per annotator\n",
    "def extract_data_per_annotator(annotator_number):\n",
    "    file_path = f'data_extraction/personal_annotation_{annotator_number}.json'\n",
    "\n",
    "    with open(file_path, 'r') as json_file:\n",
    "        data = json.load(json_file)\n",
    "\n",
    "    return data"
   ]
  },
  {
   "cell_type": "code",
   "execution_count": 4,
   "metadata": {
    "collapsed": false,
    "jupyter": {
     "outputs_hidden": false
    },
    "ExecuteTime": {
     "end_time": "2024-06-23T10:16:57.991998800Z",
     "start_time": "2024-06-23T10:16:57.791857Z"
    }
   },
   "outputs": [],
   "source": [
    "# extract llm result data per annotator\n",
    "%run process_answer.ipynb\n",
    "def get_llm_result_data(annotator_number, llm_method):\n",
    "    annotator_data = extract_data_per_annotator(annotator_number)\n",
    "    llm_result = process_and_store_llm_answers(f'llm_responses/{llm_method}.json')\n",
    "\n",
    "    return annotator_data, llm_result"
   ]
  },
  {
   "cell_type": "code",
   "execution_count": 21,
   "metadata": {
    "collapsed": false,
    "jupyter": {
     "outputs_hidden": false
    },
    "ExecuteTime": {
     "end_time": "2024-06-23T10:19:36.515929600Z",
     "start_time": "2024-06-23T10:19:36.496157300Z"
    }
   },
   "outputs": [],
   "source": [
    "def compute_cosine_similarity(number_of_entries, annotator_number, samples_used_for_training, llm_method):\n",
    "    \"\"\"\n",
    "    Computes the averaged cosine similarity score for the chosen LLM method and annotator over the dataset.\n",
    "\n",
    "    Args:\n",
    "        number_of_entries: number of dataset entries\n",
    "        annotator_number: chosen annotator number\n",
    "        samples_used_for_training: dataset entries used for training\n",
    "        llm_method: chosen llm method\n",
    "\n",
    "    Returns: the averaged cosine similarity\n",
    "\n",
    "    \"\"\"\n",
    "    dataset_average_cosine_similarity = 0\n",
    "    annotator_data, llm_result = get_llm_result_data(annotator_number, llm_method)\n",
    "\n",
    "    average_similarity_all_runs = 0\n",
    "    for j in range(0, 10):\n",
    "        for i in range(0, number_of_entries):\n",
    "            # exclude entries used for training\n",
    "            if i in samples_used_for_training:\n",
    "                continue\n",
    "\n",
    "            # llm response\n",
    "            llm_response= llm_result[j][i]\n",
    "            if len(llm_response) == 0:\n",
    "                llm_response.append('None')\n",
    "\n",
    "            # don't consider faulty responses\n",
    "            if len(llm_response) >= 2:\n",
    "                for response in llm_response:\n",
    "                    if response == \"None\" or response == \"\":\n",
    "                        llm_response.remove(response)\n",
    "\n",
    "\n",
    "            # annotator data\n",
    "            annotator_response = annotator_data.get(\"labels\")[i]\n",
    "\n",
    "\n",
    "            vectorizer = TfidfVectorizer().fit(llm_response + annotator_response)\n",
    "            tfidf_llm_response= vectorizer.transform(llm_response)\n",
    "            tfidf_annotator_response = vectorizer.transform(annotator_response)\n",
    "\n",
    "            # compute similarity matric\n",
    "            similarity_matrix = cosine_similarity(tfidf_llm_response, tfidf_annotator_response)\n",
    "\n",
    "            # Adjust similarities and compute the highest value for each row\n",
    "            similarity_sum = 0\n",
    "            for i, row in enumerate(similarity_matrix):\n",
    "                adjusted_row = [sim if sim >= 0.2 else 0 for sim in row]\n",
    "                highest_similarity = max(adjusted_row)\n",
    "                similarity_sum += highest_similarity\n",
    "\n",
    "\n",
    "            average_similarity = np.round(similarity_sum/(len(llm_response)), 5)\n",
    "            dataset_average_cosine_similarity += average_similarity\n",
    "\n",
    "        dataset_average_cosine_similarity = np.round(dataset_average_cosine_similarity/(number_of_entries - len(set(samples_used_for_training))), 4)\n",
    "        average_similarity_all_runs += dataset_average_cosine_similarity\n",
    "\n",
    "    average_similarity_all_runs = np.round(average_similarity_all_runs/10, 3)\n",
    "    return average_similarity_all_runs"
   ]
  },
  {
   "cell_type": "code",
   "execution_count": 24,
   "metadata": {
    "collapsed": false,
    "jupyter": {
     "outputs_hidden": false
    },
    "ExecuteTime": {
     "end_time": "2024-06-23T10:34:42.793106600Z",
     "start_time": "2024-06-23T10:34:42.788914200Z"
    }
   },
   "outputs": [],
   "source": [
    "# zero shot no policy for all annotators\n",
    "def zero_shot_no_policy():\n",
    "    number_of_entries = 50\n",
    "    samples_used_for_training = [0]\n",
    "    llm_method = 'zero_shot_no_policy_options'\n",
    "\n",
    "    annotators_cosine_similarity = []\n",
    "    for i in range(0, 5):\n",
    "        annotators_cosine_similarity.append(compute_cosine_similarity(number_of_entries, i + 1, samples_used_for_training, llm_method))\n",
    "\n",
    "    return annotators_cosine_similarity"
   ]
  },
  {
   "cell_type": "code",
   "execution_count": 25,
   "metadata": {
    "collapsed": false,
    "jupyter": {
     "outputs_hidden": false
    },
    "ExecuteTime": {
     "end_time": "2024-06-23T10:34:49.530025700Z",
     "start_time": "2024-06-23T10:34:49.516816500Z"
    }
   },
   "outputs": [],
   "source": [
    "# zero shot with policy for all annotators\n",
    "def zero_shot():\n",
    "    number_of_entries = 50\n",
    "    samples_used_for_training = [0]\n",
    "    llm_method = 'zero_shot'\n",
    "\n",
    "    annotators_cosine_similarity = []\n",
    "    for i in range(0, 5):\n",
    "        annotators_cosine_similarity.append(compute_cosine_similarity(number_of_entries, i + 1, samples_used_for_training, llm_method))\n",
    "\n",
    "    return annotators_cosine_similarity"
   ]
  },
  {
   "cell_type": "code",
   "execution_count": 39,
   "metadata": {
    "collapsed": false,
    "jupyter": {
     "outputs_hidden": false
    },
    "ExecuteTime": {
     "end_time": "2024-06-23T10:50:17.072101Z",
     "start_time": "2024-06-23T10:50:17.056157300Z"
    }
   },
   "outputs": [],
   "source": [
    "# zero shot chain of thought for all annotators\n",
    "def zero_shot_cot():\n",
    "    number_of_entries = 50\n",
    "    samples_used_for_training = [0]\n",
    "    llm_method = 'zero_shot_cot'\n",
    "\n",
    "    annotators_cosine_similarity = []\n",
    "    for i in range(0, 5):\n",
    "        annotators_cosine_similarity.append(compute_cosine_similarity(number_of_entries, i + 1, samples_used_for_training, llm_method))\n",
    "\n",
    "    return annotators_cosine_similarity"
   ]
  },
  {
   "cell_type": "code",
   "execution_count": 26,
   "metadata": {
    "collapsed": false,
    "jupyter": {
     "outputs_hidden": false
    },
    "ExecuteTime": {
     "end_time": "2024-06-23T10:34:54.281806600Z",
     "start_time": "2024-06-23T10:34:54.279457900Z"
    }
   },
   "outputs": [],
   "source": [
    "# few shot no policy for all annotators\n",
    "def few_shot_no_policy():\n",
    "    number_of_entries = 50\n",
    "    samples_used_for_training = [0, 3, 12]\n",
    "    llm_method = 'few_shot_no_policy'\n",
    "\n",
    "    annotators_cosine_similarity = []\n",
    "    for i in range(0, 5):\n",
    "        annotators_cosine_similarity.append(compute_cosine_similarity(number_of_entries, i + 1, samples_used_for_training, f'{llm_method}_{i + 1}'))\n",
    "\n",
    "    return annotators_cosine_similarity"
   ]
  },
  {
   "cell_type": "code",
   "execution_count": 27,
   "metadata": {
    "collapsed": false,
    "jupyter": {
     "outputs_hidden": false
    },
    "ExecuteTime": {
     "end_time": "2024-06-23T10:35:01.341924400Z",
     "start_time": "2024-06-23T10:35:01.327004500Z"
    }
   },
   "outputs": [],
   "source": [
    "# few shot with policy for all annotators\n",
    "def few_shot():\n",
    "    number_of_entries = 50\n",
    "    samples_used_for_training = [0, 3, 12]\n",
    "    llm_method = 'few_shot'\n",
    "\n",
    "    annotators_cosine_similarity = []\n",
    "    for i in range(0, 5):\n",
    "        annotators_cosine_similarity.append(compute_cosine_similarity(number_of_entries, i + 1, samples_used_for_training, f'{llm_method}_{i + 1}'))\n",
    "\n",
    "    return annotators_cosine_similarity"
   ]
  },
  {
   "cell_type": "code",
   "execution_count": 38,
   "metadata": {
    "collapsed": false,
    "jupyter": {
     "outputs_hidden": false
    },
    "ExecuteTime": {
     "end_time": "2024-06-23T10:50:12.137135300Z",
     "start_time": "2024-06-23T10:50:12.132104400Z"
    }
   },
   "outputs": [],
   "source": [
    "# few shot chain of thought for all annotators\n",
    "def few_shot_cot():\n",
    "    number_of_entries = 50\n",
    "    samples_used_for_training = [0, 3, 12]\n",
    "    llm_method = 'few_shot_cot'\n",
    "\n",
    "    annotators_cosine_similarity = []\n",
    "    for i in range(0, 5):\n",
    "        annotators_cosine_similarity.append(compute_cosine_similarity(number_of_entries, i + 1, samples_used_for_training, f'{llm_method}_{i + 1}'))\n",
    "\n",
    "    return annotators_cosine_similarity"
   ]
  },
  {
   "cell_type": "code",
   "execution_count": 37,
   "metadata": {
    "collapsed": false,
    "jupyter": {
     "outputs_hidden": false
    },
    "ExecuteTime": {
     "end_time": "2024-06-23T10:50:07.819966200Z",
     "start_time": "2024-06-23T10:50:07.816888500Z"
    }
   },
   "outputs": [],
   "source": [
    "# few shot majority vote for all annotators\n",
    "def few_shot_majority_vote():\n",
    "    number_of_entries = 50\n",
    "    samples_used_for_training = [0, 3, 12]\n",
    "    llm_method = 'few_shot_majority_vote'\n",
    "\n",
    "    annotators_cosine_similarity = []\n",
    "    for i in range(0, 5):\n",
    "        annotators_cosine_similarity.append(compute_cosine_similarity(number_of_entries, i + 1, samples_used_for_training, f'{llm_method}'))\n",
    "\n",
    "    return annotators_cosine_similarity"
   ]
  },
  {
   "cell_type": "code",
   "execution_count": 13,
   "metadata": {
    "collapsed": false,
    "jupyter": {
     "outputs_hidden": false
    },
    "ExecuteTime": {
     "end_time": "2024-06-23T10:17:27.636169100Z",
     "start_time": "2024-06-23T10:17:27.631755700Z"
    }
   },
   "outputs": [],
   "source": [
    "# preprocess responses\n",
    "def preprocess_string(text):\n",
    "    text = re.sub(r'[^\\w\\s]', '', text)  # remove punctuation\n",
    "    text = re.sub(r'\\s+', ' ', text)  # replace multiple whitespace characters with a single space\n",
    "    text = text.strip().lower()  # strip leading and trailing whitespace and convert to lowercase\n",
    "    return text"
   ]
  },
  {
   "cell_type": "code",
   "execution_count": 14,
   "metadata": {
    "collapsed": false,
    "jupyter": {
     "outputs_hidden": false
    },
    "ExecuteTime": {
     "end_time": "2024-06-23T10:17:27.641551200Z",
     "start_time": "2024-06-23T10:17:27.638173500Z"
    }
   },
   "outputs": [],
   "source": [
    "def remove_results_same_as_training_few_shot(llm_method, samples_used_for_training, number_of_entries):\n",
    "    \"\"\"\n",
    "    Removes data entries which the LLM overfit to and recomputes the cosine similarity.\n",
    "    Args:\n",
    "        llm_method: the llm method used\n",
    "        samples_used_for_training: the data entries used for training\n",
    "        number_of_entries: number of dataset entries\n",
    "\n",
    "    Returns: the recomputed cosine similarity\n",
    "\n",
    "    \"\"\"\n",
    "    annotators_cosine_similarity = []\n",
    "\n",
    "    for q in range(0, 5):\n",
    "        annotator_data, llm_result = get_llm_result_data(q + 1, f'{llm_method}_{q + 1}')\n",
    "        remove_list = []\n",
    "        for run in llm_result:\n",
    "            for i, row in enumerate(run):\n",
    "                if i in samples_used_for_training:\n",
    "                    continue\n",
    "\n",
    "                annotator_label = annotator_data.get('labels')[0]\n",
    "                for k, y in enumerate(annotator_label):\n",
    "                    annotator_label[k] = preprocess_string(y)\n",
    "\n",
    "                intersection = set(row) & set(list(annotator_data.get('labels')[0]))\n",
    "\n",
    "\n",
    "                if len(intersection) > 0:\n",
    "                    remove_list.append(i)\n",
    "\n",
    "\n",
    "        annotators_cosine_similarity.append(compute_cosine_similarity(number_of_entries, q + 1, set(samples_used_for_training + remove_list), f'{llm_method}_{q + 1}'))\n",
    "\n",
    "\n",
    "    return annotators_cosine_similarity"
   ]
  },
  {
   "cell_type": "code",
   "execution_count": 28,
   "metadata": {
    "collapsed": false,
    "jupyter": {
     "outputs_hidden": false
    },
    "ExecuteTime": {
     "end_time": "2024-06-23T10:35:10.422392800Z",
     "start_time": "2024-06-23T10:35:10.420301900Z"
    }
   },
   "outputs": [],
   "source": [
    "# one shot no policy for all annotators\n",
    "def one_shot_no_policy():\n",
    "    number_of_entries = 50\n",
    "    samples_used_for_training = [0]\n",
    "    llm_method = 'one_shot_no_policy'\n",
    "\n",
    "    annotators_cosine_similarity = []\n",
    "    for i in range(0, 5):\n",
    "        annotators_cosine_similarity.append(compute_cosine_similarity(number_of_entries, i + 1, samples_used_for_training, f'{llm_method}_{i + 1}'))\n",
    "\n",
    "    return annotators_cosine_similarity"
   ]
  },
  {
   "cell_type": "code",
   "execution_count": 29,
   "metadata": {
    "collapsed": false,
    "jupyter": {
     "outputs_hidden": false
    },
    "ExecuteTime": {
     "end_time": "2024-06-23T10:35:16.744624700Z",
     "start_time": "2024-06-23T10:35:16.729062200Z"
    }
   },
   "outputs": [],
   "source": [
    "# one shot with policy for all annotators\n",
    "def one_shot():\n",
    "    number_of_entries = 50\n",
    "    samples_used_for_training = [0]\n",
    "    llm_method = 'one_shot'\n",
    "\n",
    "    annotators_cosine_similarity = []\n",
    "    for i in range(0, 5):\n",
    "        annotators_cosine_similarity.append(compute_cosine_similarity(number_of_entries, i + 1, samples_used_for_training, f'{llm_method}_{i + 1}'))\n",
    "\n",
    "    return annotators_cosine_similarity"
   ]
  },
  {
   "cell_type": "code",
   "execution_count": 36,
   "metadata": {
    "collapsed": false,
    "jupyter": {
     "outputs_hidden": false
    },
    "ExecuteTime": {
     "end_time": "2024-06-23T10:50:00.464204700Z",
     "start_time": "2024-06-23T10:50:00.440892Z"
    }
   },
   "outputs": [],
   "source": [
    "# one shot chain of thought for all annotators\n",
    "def one_shot_cot():\n",
    "    number_of_entries = 50\n",
    "    samples_used_for_training = [0]\n",
    "    llm_method = 'one_shot_cot'\n",
    "\n",
    "    annotators_cosine_similarity = []\n",
    "    for i in range(0, 5):\n",
    "        annotators_cosine_similarity.append(compute_cosine_similarity(number_of_entries, i + 1, samples_used_for_training, f'{llm_method}_{i + 1}'))\n",
    "\n",
    "    return annotators_cosine_similarity"
   ]
  },
  {
   "cell_type": "code",
   "execution_count": 35,
   "metadata": {
    "collapsed": false,
    "jupyter": {
     "outputs_hidden": false
    },
    "ExecuteTime": {
     "end_time": "2024-06-23T10:49:55.683738Z",
     "start_time": "2024-06-23T10:49:55.680213400Z"
    }
   },
   "outputs": [],
   "source": [
    "# one shot majority vote for all annotators\n",
    "def one_shot_majority_vote():\n",
    "    number_of_entries = 50\n",
    "    samples_used_for_training = [0]\n",
    "    llm_method = 'one_shot_majority_vote'\n",
    "\n",
    "    annotators_cosine_similarity = []\n",
    "    for i in range(0, 5):\n",
    "        annotators_cosine_similarity.append(compute_cosine_similarity(number_of_entries, i + 1, samples_used_for_training, f'{llm_method}'))\n",
    "\n",
    "    return annotators_cosine_similarity"
   ]
  },
  {
   "cell_type": "code",
   "execution_count": 19,
   "metadata": {
    "collapsed": false,
    "jupyter": {
     "outputs_hidden": false
    },
    "ExecuteTime": {
     "end_time": "2024-06-23T10:17:45.207868800Z",
     "start_time": "2024-06-23T10:17:45.201571100Z"
    }
   },
   "outputs": [],
   "source": [
    "# how many results are the same as the example\n",
    "def remove_results_same_as_training_one_shot(llm_method, samples_used_for_training, number_of_entries):\n",
    "    \"\"\"\n",
    "    Removes data entries which the LLM overfit to and recomputes the cosine similarity.\n",
    "    Args:\n",
    "        llm_method: the llm method used\n",
    "        samples_used_for_training: the data entries used for training\n",
    "        number_of_entries: number of dataset entries\n",
    "\n",
    "    Returns: the recomputed cosine similarity\n",
    "\n",
    "    \"\"\"\n",
    "    annotators_cosine_similarity = []\n",
    "\n",
    "    for q in range(0, 5):\n",
    "        annotator_data, llm_result = get_llm_result_data(q + 1, f'{llm_method}_{q + 1}')\n",
    "        remove_list = []\n",
    "        for run in llm_result:\n",
    "            for i, row in enumerate(run):\n",
    "                if i in samples_used_for_training:\n",
    "                    continue\n",
    "\n",
    "                annotator_label = annotator_data.get('labels')[0]\n",
    "                for k, y in enumerate(annotator_label):\n",
    "                    annotator_label[k] = preprocess_string(y)\n",
    "\n",
    "\n",
    "                intersection = set(row) & set(list(annotator_data.get('labels')[0]))\n",
    "\n",
    "\n",
    "                if len(intersection) > 0:\n",
    "                    remove_list.append(i)\n",
    "\n",
    "\n",
    "        annotators_cosine_similarity.append(compute_cosine_similarity(number_of_entries, q + 1, set(samples_used_for_training + remove_list), f'{llm_method}_{q + 1}'))\n",
    "\n",
    "    return annotators_cosine_similarity"
   ]
  },
  {
   "cell_type": "markdown",
   "source": [
    "Running the cell below outputs a table showing results for the zero-shot, one-shot and few-shot prompting approaches, when no policy option is provided in the prompt"
   ],
   "metadata": {
    "collapsed": false
   }
  },
  {
   "cell_type": "code",
   "execution_count": 22,
   "outputs": [
    {
     "data": {
      "text/plain": "<Figure size 1000x200 with 1 Axes>",
      "image/png": "[encoded data removed]"
     },
     "metadata": {},
     "output_type": "display_data"
    }
   ],
   "source": [
    "import matplotlib.pyplot as plt\n",
    "import pandas as pd\n",
    "\n",
    "# data for the table\n",
    "data = {\n",
    "    'Annotators': ['Annotator 1', 'Annotator 2', 'Annotator 3', 'Annotator 4', 'Annotator 5'],\n",
    "    'Zero-shot': zero_shot_no_policy(),\n",
    "    'One-shot': one_shot_no_policy(),\n",
    "    'Few-shot': few_shot_no_policy()\n",
    "}\n",
    "\n",
    "# create a DataFrame\n",
    "df = pd.DataFrame(data)\n",
    "\n",
    "# plotting the table\n",
    "fig, ax = plt.subplots(figsize=(10, 2))  # set size frame\n",
    "ax.axis('tight')\n",
    "ax.axis('off')\n",
    "table = ax.table(cellText=df.values, colLabels=df.columns, cellLoc='center', loc='center')\n",
    "\n",
    "# show the plot\n",
    "plt.show()\n"
   ],
   "metadata": {
    "collapsed": false,
    "ExecuteTime": {
     "end_time": "2024-06-23T10:19:53.626844500Z",
     "start_time": "2024-06-23T10:19:40.579897200Z"
    }
   }
  },
  {
   "cell_type": "markdown",
   "source": [
    "Running the cell below outputs a table showing results for the zero-shot, one-shot and few-shot prompting approaches, when the policy option is provided in the prompt"
   ],
   "metadata": {
    "collapsed": false
   }
  },
  {
   "cell_type": "code",
   "execution_count": 23,
   "outputs": [
    {
     "data": {
      "text/plain": "<Figure size 1000x200 with 1 Axes>",
      "image/png": "[encoded data removed]"
     },
     "metadata": {},
     "output_type": "display_data"
    }
   ],
   "source": [
    "import matplotlib.pyplot as plt\n",
    "import pandas as pd\n",
    "\n",
    "# data for the table\n",
    "data = {\n",
    "    'Annotators': ['Annotator 1', 'Annotator 2', 'Annotator 3', 'Annotator 4', 'Annotator 5'],\n",
    "    'Zero-shot': zero_shot(),\n",
    "    'One-shot': one_shot(),\n",
    "    'Few-shot': few_shot()\n",
    "}\n",
    "\n",
    "# create a DataFrame\n",
    "df = pd.DataFrame(data)\n",
    "\n",
    "# plotting the table\n",
    "fig, ax = plt.subplots(figsize=(10, 2))  # set size frame\n",
    "ax.axis('tight')\n",
    "ax.axis('off')\n",
    "table = ax.table(cellText=df.values, colLabels=df.columns, cellLoc='center', loc='center')\n",
    "\n",
    "# show the plot\n",
    "plt.show()"
   ],
   "metadata": {
    "collapsed": false,
    "ExecuteTime": {
     "end_time": "2024-06-23T10:28:36.482175100Z",
     "start_time": "2024-06-23T10:28:23.485597600Z"
    }
   }
  },
  {
   "cell_type": "markdown",
   "source": [
    "Running the cell below outputs a table showing results for the zero-shot, one-shot and few-shot prompting approaches, after the data entries the LLM overfitted to were removed"
   ],
   "metadata": {
    "collapsed": false
   }
  },
  {
   "cell_type": "code",
   "execution_count": 31,
   "outputs": [
    {
     "data": {
      "text/plain": "<Figure size 1000x200 with 1 Axes>",
      "image/png": "[encoded data removed]"
     },
     "metadata": {},
     "output_type": "display_data"
    }
   ],
   "source": [
    "import matplotlib.pyplot as plt\n",
    "import pandas as pd\n",
    "\n",
    "# data for the table\n",
    "data = {\n",
    "    'Annotators': ['Annotator 1', 'Annotator 2', 'Annotator 3', 'Annotator 4', 'Annotator 5'],\n",
    "    'Zero-shot': zero_shot(),\n",
    "    'One-shot': remove_results_same_as_training_one_shot('one_shot', [0], 50),\n",
    "    'Few-shot': remove_results_same_as_training_few_shot('few_shot', [0, 3, 12], 50)\n",
    "}\n",
    "\n",
    "# create a DataFrame\n",
    "df = pd.DataFrame(data)\n",
    "\n",
    "# plotting the table\n",
    "fig, ax = plt.subplots(figsize=(10, 2))  # set size frame\n",
    "ax.axis('tight')\n",
    "ax.axis('off')\n",
    "table = ax.table(cellText=df.values, colLabels=df.columns, cellLoc='center', loc='center')\n",
    "\n",
    "# show the plot\n",
    "plt.show()"
   ],
   "metadata": {
    "collapsed": false,
    "ExecuteTime": {
     "end_time": "2024-06-23T10:38:16.624183100Z",
     "start_time": "2024-06-23T10:38:04.787092800Z"
    }
   }
  },
  {
   "cell_type": "markdown",
   "source": [
    "Running the cell below outputs a table showing results for the zero-shot, one-shot and few-shot prompting approaches, with or without applying chain-of-thought prompting"
   ],
   "metadata": {
    "collapsed": false
   }
  },
  {
   "cell_type": "code",
   "execution_count": 32,
   "outputs": [
    {
     "data": {
      "text/plain": "<Figure size 1000x200 with 1 Axes>",
      "image/png": "[encoded data removed]"
     },
     "metadata": {},
     "output_type": "display_data"
    }
   ],
   "source": [
    "import matplotlib.pyplot as plt\n",
    "import pandas as pd\n",
    "\n",
    "# data for the table\n",
    "data = {\n",
    "    'Annotators': ['Annotator 1', 'Annotator 2', 'Annotator 3', 'Annotator 4', 'Annotator 5'],\n",
    "    'Zero-shot': zero_shot(),\n",
    "    'Zero-shot cot': zero_shot_cot(),\n",
    "    'One-shot': remove_results_same_as_training_one_shot('one_shot', [0], 50),\n",
    "    'One-shot cot': remove_results_same_as_training_few_shot('one_shot_cot', [0], 50),\n",
    "    'Few-shot': remove_results_same_as_training_few_shot('few_shot', [0, 3, 12], 50),\n",
    "    'Few-shot cot': remove_results_same_as_training_few_shot('few_shot_cot', [0, 3, 12], 50)\n",
    "}\n",
    "\n",
    "# create a DataFrame\n",
    "df = pd.DataFrame(data)\n",
    "\n",
    "# plotting the table\n",
    "fig, ax = plt.subplots(figsize=(10, 2))  # set size frame\n",
    "ax.axis('tight')\n",
    "ax.axis('off')\n",
    "table = ax.table(cellText=df.values, colLabels=df.columns, cellLoc='center', loc='center')\n",
    "\n",
    "# show the plot\n",
    "plt.show()"
   ],
   "metadata": {
    "collapsed": false,
    "ExecuteTime": {
     "end_time": "2024-06-23T10:42:30.788981700Z",
     "start_time": "2024-06-23T10:42:06.134720900Z"
    }
   }
  },
  {
   "cell_type": "markdown",
   "source": [
    "Running the cell below outputs a table showing results for the one-shot and few-shot prompting approaches, with individual annotator labels and with majority vote labels"
   ],
   "metadata": {
    "collapsed": false
   }
  },
  {
   "cell_type": "code",
   "execution_count": 34,
   "outputs": [
    {
     "data": {
      "text/plain": "<Figure size 1000x200 with 1 Axes>",
      "image/png": "[encoded data removed]"
     },
     "metadata": {},
     "output_type": "display_data"
    }
   ],
   "source": [
    "import matplotlib.pyplot as plt\n",
    "import pandas as pd\n",
    "\n",
    "# data for the table\n",
    "data = {\n",
    "    'Annotators': ['Annotator 1', 'Annotator 2', 'Annotator 3', 'Annotator 4', 'Annotator 5'],\n",
    "    'One-shot': remove_results_same_as_training_one_shot('one_shot_cot', [0], 50),\n",
    "    'One-shot majority vote': one_shot_majority_vote(),\n",
    "    'Few-shot': remove_results_same_as_training_few_shot('few_shot_cot', [0, 3, 12], 50),\n",
    "    'Few-shot majority vote': few_shot_majority_vote()\n",
    "}\n",
    "\n",
    "# create a DataFrame\n",
    "df = pd.DataFrame(data)\n",
    "\n",
    "# plotting the table\n",
    "fig, ax = plt.subplots(figsize=(10, 2))  # set size frame\n",
    "ax.axis('tight')\n",
    "ax.axis('off')\n",
    "table = ax.table(cellText=df.values, colLabels=df.columns, cellLoc='center', loc='center')\n",
    "\n",
    "# show the plot\n",
    "plt.show()"
   ],
   "metadata": {
    "collapsed": false,
    "ExecuteTime": {
     "end_time": "2024-06-23T10:48:16.913030800Z",
     "start_time": "2024-06-23T10:48:00.195546600Z"
    }
   }
  }
 ],
 "metadata": {
  "kernelspec": {
   "display_name": "Python 3 (ipykernel)",
   "language": "python",
   "name": "python3"
  },
  "language_info": {
   "codemirror_mode": {
    "name": "ipython",
    "version": 3
   },
   "file_extension": ".py",
   "mimetype": "text/x-python",
   "name": "python",
   "nbconvert_exporter": "python",
   "pygments_lexer": "ipython3",
   "version": "3.11.1"
  }
 },
 "nbformat": 4,
 "nbformat_minor": 4
}
